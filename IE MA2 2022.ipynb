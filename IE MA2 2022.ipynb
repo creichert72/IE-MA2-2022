{
 "cells": [
  {
   "cell_type": "code",
   "execution_count": 1,
   "metadata": {},
   "outputs": [],
   "source": [
    "from sympy import *\n",
    "import numpy as np\n",
    "import matplotlib.pyplot as plt\n",
    "from IPython.display import display, Math\n",
    "init_printing()"
   ]
  },
  {
   "cell_type": "markdown",
   "metadata": {},
   "source": [
    "## Problème I:\n",
    "<div style=\"font-size: 20px\">\n",
    "On commence par définir le $f$ du système différentiel et calculer les points stationnaires"
   ]
  },
  {
   "cell_type": "code",
   "execution_count": 2,
   "metadata": {},
   "outputs": [],
   "source": [
    "x, y = symbols('x, y')\n",
    "f1 = x*(1 - 2*x - y)\n",
    "f2 = y*(-2 + 6*x)"
   ]
  },
  {
   "cell_type": "code",
   "execution_count": null,
   "metadata": {},
   "outputs": [],
   "source": [
    "zeros = solve((f1, f2), (x, y))\n",
    "display(zeros)"
   ]
  },
  {
   "cell_type": "markdown",
   "metadata": {},
   "source": [
    "<div style=\"font-size: 20px\">\n",
    "Calcul des valeurs propres et vecteurs propres:\n",
    "<br>\n",
    "(la fonction eigenvects affiche la valeur propre, la multiplicité et un vecteur propre associé)"
   ]
  },
  {
   "cell_type": "code",
   "execution_count": null,
   "metadata": {},
   "outputs": [],
   "source": [
    "Df = Matrix([[diff(f1,x), diff(f1,y)], [diff(f2,x), diff(f2,y)]])\n",
    "display(Math('Df(y) = ' + latex(Df)))\n",
    "\n",
    "Df0 = Df.subs({x: zeros[0][0], y: zeros[0][1]})\n",
    "display(Math('Df(0,0) = ' + latex(Df0)))\n",
    "display(Df0.eigenvects())\n",
    "Df1 = Df.subs({x: zeros[1][0], y: zeros[1][1]})\n",
    "display(Math('Df(1/3,1/3) = ' + latex(Df1)))\n",
    "display(Df1.eigenvects())\n",
    "Df2 = Df.subs({x: zeros[2][0], y: zeros[2][1]})\n",
    "display(Math('Df(1/2,0) = ' + latex(Df2)))\n",
    "display(Df2.eigenvects())"
   ]
  },
  {
   "cell_type": "markdown",
   "metadata": {},
   "source": [
    "<div style=\"font-size: 20px\">\n",
    "Le point $(0,0)$ est un point selle, le point $(1/3,1/3)$ est un foyer stable et\n",
    "$(1/2,0)$ est encore unt point selle. Le portrait de phase est tracé ci-dessous."
   ]
  },
  {
   "cell_type": "code",
   "execution_count": null,
   "metadata": {},
   "outputs": [],
   "source": [
    "F1 = lambdify([x,y], f1, 'numpy')\n",
    "F2 = lambdify([x,y], f2, 'numpy')\n",
    "xx = np.linspace(0,1,100)\n",
    "X, Y = np.meshgrid(xx,xx)\n",
    "U = F1(X,Y)\n",
    "V = F2(X,Y)\n",
    "plt.figure()\n",
    "plt.streamplot(X,Y,U,V, density=0.5)"
   ]
  },
  {
   "cell_type": "markdown",
   "metadata": {},
   "source": [
    "## Problème II:\n",
    "<div style=\"font-size: 20px\">\n",
    "Le système différentiel s'écrit\n",
    "$$\n",
    "y_1' = y_2 - g(y_1)\\\\\n",
    "y_2' = -y_1\n",
    "$$\n",
    "Il y a un point stationnaire en $(0,g(0))$. La jacobienne de $f$ en ce point est\n",
    "$Df(0,g(0)) = \\begin{pmatrix} -g'(0)& 1\\\\ -1 & 0\\end{pmatrix}$.\n",
    "<br>\n",
    "Les valeurs propres sont donc\n",
    "$$\n",
    "\\lambda_{1/2} = \\frac{1}{2}\\left( -g'(0) \\pm \\sqrt{g'(0)^2 - 4} \\right) .\n",
    "$$\n",
    "Le point stationnaire est stable si $g'(0) > 0$ et instable si $g'(0) < 0$.\n",
    "<br>\n",
    "Dans le cas du circuit de van der Pol $g(x) = x^3 - x$, $g'(0) = -1$,\n",
    "le point stationnaire est donc instable (c'est un foyer instable)."
   ]
  },
  {
   "cell_type": "markdown",
   "metadata": {},
   "source": [
    "<div style=\"font-size: 20px\">\n",
    "$$\n",
    "\\frac{d}{dt}W(y(t)) = y_1 y_1' + y_2 y_2' = y_1 (y_2 - g(y_1)) + y_2(-y_1)\\\\\n",
    "  = -y_1(t) g(y_1(t))\n",
    "$$\n",
    "Donc $\\|y(t)\\|$ diminue tant que $-y_1 g(y_1) < 0$. Le circuit est repoussé vers son état\n",
    "stationnaire, la résistance est passive.\n",
    "<br>\n",
    "La \"résistance\" du circuit de van der Pol ne vérifie pas cette condition pour\n",
    "$y_1\\in [-1,1]$, le point stationnaire est instable, $\\|y(t)\\|$ est croissante\n",
    "tant que $y_1(t)\\in [-1,1]$. \n",
    "<br>\n",
    "En revanche les trajectoires du circuit ne peuvent pas partir vers l'infini car pour $|y_1|> 1$ on a bien $-y_1 g(y_1) < 0$. Elles convergent vers un cycle limite comme on peut deviner du portrait de phase."
   ]
  },
  {
   "cell_type": "code",
   "execution_count": null,
   "metadata": {},
   "outputs": [],
   "source": [
    "g = x**3 - x\n",
    "G = lambdify(x,g,'numpy')\n",
    "f1 = y - g\n",
    "f2 = -x\n",
    "F1 = lambdify([x,y], f1, 'numpy')\n",
    "F2 = lambdify([x,y], f2, 'numpy')\n",
    "xx = np.linspace(-2,2,100)\n",
    "X, Y = np.meshgrid(xx,xx)\n",
    "U = F1(X,Y)\n",
    "V = F2(X,Y)\n",
    "plt.figure()\n",
    "plt.subplot(111)\n",
    "plt.streamplot(X,Y,U,V, density=0.7)\n",
    "plt.plot(xx,G(xx), color='r')\n",
    "n = xx.shape[0]\n",
    "plt.plot(np.zeros((1,n)).reshape(n, ), xx, color='r')\n",
    "plt.ylim([-2,2])\n",
    "plt.gca().set_aspect('equal')\n",
    "#plt.savefig('phase.png')"
   ]
  },
  {
   "cell_type": "markdown",
   "metadata": {},
   "source": [
    "## Problème III:\n",
    "<div style=\"font-size: 20px\">\n",
    "On s'intéresse au volume $\\Omega$ de l'intersection de deux cylindres de rayon $r$.\n",
    "<br>\n",
    "Le premier est définie par $x_1^2 + x_2^2 \\leq r^2$ et s'étend le long de l'axe $x_3$\n",
    "et le deuxième est définie par $x_1^2 + x_3^2 \\leq r^2$ et s'étend le long de l'axe $x_2$.\n",
    "<br>\n",
    "On s'intéresse également à l'aire de la surface $\\Sigma = \\partial\\Omega$. Une partie\n",
    "$\\Sigma_1\\subset\\Sigma$ est paramétrée par\n",
    "$$\n",
    "\\varphi(s,t) = (s,t,\\sqrt{r^2 - s^2})\n",
    "$$\n",
    "où $(s,t)\\in D = \\{(s,t)\\in\\mathbb{R}^2: 0\\leq s \\leq r; 0\\leq t \\leq \\sqrt{r^2 - s^2} \\}$\n",
    "<br>\n",
    "Le bord de $\\Sigma_1$ ainsi que le bord de la face supérieure de $\\Sigma$ sont tracés dans\n",
    "la figure ci-dessous."
   ]
  },
  {
   "cell_type": "code",
   "execution_count": null,
   "metadata": {},
   "outputs": [],
   "source": [
    "import matplotlib as mpl\n",
    "from mpl_toolkits.mplot3d import Axes3D\n",
    "%matplotlib widget\n",
    "fig = plt.figure()\n",
    "ax = fig.add_subplot(211, projection='3d')\n",
    "r = 0.8\n",
    "s = np.linspace(0,r,50)\n",
    "x = s\n",
    "y = np.sqrt(r**2 - s**2)\n",
    "z = np.sqrt(r**2 - s**2)\n",
    "ax.plot(x, y, z, label='parametric curve')\n",
    "#ax.plot(x,y,0)\n",
    "ax.plot(x,np.zeros(x.shape),z)\n",
    "ax.plot(np.zeros(x.shape),s,r)\n",
    "#ax = fig.add_subplot(212, projection='3d')\n",
    "x = s\n",
    "y = np.sqrt(r**2 - s**2)\n",
    "z = np.sqrt(r**2 - s**2)\n",
    "ax.plot(x, y, z, color='b')\n",
    "ax.plot(x, -y, z, color='b')\n",
    "ax.plot(-x, y, z, color='b')\n",
    "ax.plot(-x, -y, z, color='b')\n",
    "#ax.plot(x,y,0)\n",
    "#ax.plot(x,np.zeros(x.shape),z)\n",
    "#ax.plot(np.zeros(x.shape),s,r)\n",
    "ax.set_xticks([0,0.5,1])\n",
    "ax.set_yticks([0,0.5,1])\n",
    "ax.set_zticks([0,0.5,1])\n",
    "ax.set_xlabel('$x$') #, fontsize=10, rotation=150)\n",
    "ax.set_ylabel('$y$')\n",
    "ax.set_zlabel('$z$')\n",
    "ax.set_xlim([-1,1])\n",
    "ax.set_ylim([-1,1])\n",
    "ax.set_zlim([0,1])"
   ]
  },
  {
   "cell_type": "markdown",
   "metadata": {},
   "source": [
    "<div style=\"font-size: 20px\">\n",
    "On voit que $\\Sigma_1$ correspond à un quart de la partie supérieure de $\\Sigma$.\n",
    "Puisque $\\Sigma$ est composée de quatre faces pareilles on a \n",
    "$$\n",
    "|\\Sigma| = 16 |\\Sigma_1|.\n",
    "$$\n",
    "Calculons $|\\Sigma_1|$."
   ]
  },
  {
   "cell_type": "code",
   "execution_count": null,
   "metadata": {},
   "outputs": [],
   "source": [
    "s, t = symbols('s,t', real=True, positive=True) \n",
    "r = symbols('r', real=True,positive=True)\n",
    "phi = Matrix([[s], [t], [sqrt(r**2 - s**2)]])\n",
    "dphids = diff(phi, s)\n",
    "display(Math('\\partial_s\\phi = ' + latex(dphids)))\n",
    "dphidt = diff(phi, t)\n",
    "display(Math('\\partial_t\\phi = ' + latex(dphidt)))\n",
    "cross = simplify(dphids.cross(dphidt))\n",
    "display(Math('\\partial_s \\phi\\wedge\\partial_t\\phi = ' + latex(cross)))\n",
    "norm2 = cross[0]**2 + cross[1]**2 + cross[2]**2\n",
    "display(Math('\\|\\partial_s\\phi\\wedge\\partial_t\\phi\\|^2 = ' + latex(simplify(norm2))))\n",
    "dS = refine(sqrt(simplify(norm2)), Q.positive(r**2 - s**2))\n",
    "display(Math('dS = ' + latex(dS) + ' ds dt'))\n",
    "II = integrate(dS, (t,0,sqrt(r**2 - s**2))) #--intégrale intérieure\n",
    "I = integrate(II, (s,0,r)) #--intégrale extérieure\n",
    "display(I)\n",
    "display(Math('|\\Sigma_1| = ' + latex(I)))"
   ]
  },
  {
   "cell_type": "markdown",
   "metadata": {},
   "source": [
    "<div style=\"font-size: 20px\">\n",
    "Donc $|\\Sigma| = 16 r^2$. Finalement, calculons le volume de $\\Omega$."
   ]
  },
  {
   "cell_type": "code",
   "execution_count": null,
   "metadata": {},
   "outputs": [],
   "source": [
    "g = Matrix([[0],[0], [sqrt(r**2 - s**2)]])\n",
    "gdotn = g.dot(cross)\n",
    "display(Math('(g\\cdot n)\\: dS = (' + latex(gdotn) + ')\\: ds\\: dt'))\n",
    "II = integrate(gdotn, (t,0,sqrt(r**2 - s**2))) #--intégrale intérieure\n",
    "display(II)\n",
    "I = integrate(II, (s,0,r)) #--intégrale extérieure\n",
    "display(I)\n",
    "display(Math('\\int_{\\Sigma_1} (g\\cdot n)\\: dS = ' + latex(I)))"
   ]
  },
  {
   "cell_type": "markdown",
   "metadata": {},
   "source": [
    "<div style=\"font-size: 20px\">\n",
    "Afin d'obtenir $\\int_\\Sigma (g\\cdot n)\\: dS$ on peut raisonner par symétrie.\n",
    "Pour la partie supérieure de $\\Sigma$ on a quatre fois $\\int_{\\Sigma_1}$.\n",
    "Pour la partie inférieure on a la même contribution donc $8 \\int_{\\Sigma_1}$ pour ces deux faces au total. Pour les faces laterales il n'y a pas de contribution car $n$ est\n",
    "orthogonal à $g$. On a donc\n",
    "$$\n",
    "\\int_\\Sigma (g\\cdot n)\\: dS = 8 \\int_{\\Sigma_1} (g\\cdot n)\\: dS = \\frac{16}{3} r^3.\n",
    "$$\n",
    "Or, d'aprés Gauss-Green\n",
    "$$\n",
    "\\int_\\Sigma (g\\cdot n)\\: dS = \\int_\\Omega \\text{div} g\\: dx = \\int_\\Omega 1\\: dx = |\\Omega|.\n",
    "$$\n",
    "On en déduit que $|\\Omega| = \\frac{16}{3} r^3$."
   ]
  },
  {
   "cell_type": "code",
   "execution_count": null,
   "metadata": {},
   "outputs": [],
   "source": []
  }
 ],
 "metadata": {
  "kernelspec": {
   "display_name": "Python 3",
   "language": "python",
   "name": "python3"
  },
  "language_info": {
   "codemirror_mode": {
    "name": "ipython",
    "version": 3
   },
   "file_extension": ".py",
   "mimetype": "text/x-python",
   "name": "python",
   "nbconvert_exporter": "python",
   "pygments_lexer": "ipython3",
   "version": "3.7.5"
  },
  "widgets": {
   "application/vnd.jupyter.widget-state+json": {
    "state": {
     "00608ab7a2a148c4ae008baa72fdae71": {
      "model_module": "jupyter-matplotlib",
      "model_module_version": "^0.10.5",
      "model_name": "ToolbarModel",
      "state": {
       "collapsed": true,
       "layout": "IPY_MODEL_6b653d1e5f114fa39d97b2de254696c6",
       "orientation": "vertical",
       "toolitems": [
        [
         "Home",
         "Reset original view",
         "home",
         "home"
        ],
        [
         "Back",
         "Back to previous view",
         "arrow-left",
         "back"
        ],
        [
         "Forward",
         "Forward to next view",
         "arrow-right",
         "forward"
        ],
        [
         "Pan",
         "Pan axes with left mouse, zoom with right",
         "arrows",
         "pan"
        ],
        [
         "Zoom",
         "Zoom to rectangle",
         "square-o",
         "zoom"
        ],
        [
         "Download",
         "Download plot",
         "floppy-o",
         "save_figure"
        ]
       ]
      }
     },
     "056b38b6a74d4dee82291792ffca9afd": {
      "model_module": "@jupyter-widgets/base",
      "model_module_version": "1.2.0",
      "model_name": "LayoutModel",
      "state": {}
     },
     "1086b52f159e46fda9091c3a1eae0186": {
      "model_module": "@jupyter-widgets/base",
      "model_module_version": "1.2.0",
      "model_name": "LayoutModel",
      "state": {}
     },
     "14b48c8f615f4da7a56627d8cea9913b": {
      "model_module": "jupyter-matplotlib",
      "model_module_version": "^0.10.5",
      "model_name": "ToolbarModel",
      "state": {
       "collapsed": true,
       "layout": "IPY_MODEL_ad4aef4a840d4a598293b2346eab6c10",
       "orientation": "vertical",
       "toolitems": [
        [
         "Home",
         "Reset original view",
         "home",
         "home"
        ],
        [
         "Back",
         "Back to previous view",
         "arrow-left",
         "back"
        ],
        [
         "Forward",
         "Forward to next view",
         "arrow-right",
         "forward"
        ],
        [
         "Pan",
         "Pan axes with left mouse, zoom with right",
         "arrows",
         "pan"
        ],
        [
         "Zoom",
         "Zoom to rectangle",
         "square-o",
         "zoom"
        ],
        [
         "Download",
         "Download plot",
         "floppy-o",
         "save_figure"
        ]
       ]
      }
     },
     "193125657aed442f8cbecbf091c05ea5": {
      "model_module": "jupyter-matplotlib",
      "model_module_version": "^0.10.5",
      "model_name": "ToolbarModel",
      "state": {
       "collapsed": true,
       "layout": "IPY_MODEL_dcd6bb3b04eb4e6d97f07cdcf1d14a0a",
       "orientation": "vertical",
       "toolitems": [
        [
         "Home",
         "Reset original view",
         "home",
         "home"
        ],
        [
         "Back",
         "Back to previous view",
         "arrow-left",
         "back"
        ],
        [
         "Forward",
         "Forward to next view",
         "arrow-right",
         "forward"
        ],
        [
         "Pan",
         "Pan axes with left mouse, zoom with right",
         "arrows",
         "pan"
        ],
        [
         "Zoom",
         "Zoom to rectangle",
         "square-o",
         "zoom"
        ],
        [
         "Download",
         "Download plot",
         "floppy-o",
         "save_figure"
        ]
       ]
      }
     },
     "19b59ddcd1da4a368dcfb35333de55db": {
      "model_module": "@jupyter-widgets/base",
      "model_module_version": "1.2.0",
      "model_name": "LayoutModel",
      "state": {}
     },
     "1a8dabc355554002b22a16b5519ebe13": {
      "model_module": "jupyter-matplotlib",
      "model_module_version": "^0.10.5",
      "model_name": "ToolbarModel",
      "state": {
       "collapsed": true,
       "layout": "IPY_MODEL_7cccaad5af294a24b510a08603f77f01",
       "orientation": "vertical",
       "toolitems": [
        [
         "Home",
         "Reset original view",
         "home",
         "home"
        ],
        [
         "Back",
         "Back to previous view",
         "arrow-left",
         "back"
        ],
        [
         "Forward",
         "Forward to next view",
         "arrow-right",
         "forward"
        ],
        [
         "Pan",
         "Pan axes with left mouse, zoom with right",
         "arrows",
         "pan"
        ],
        [
         "Zoom",
         "Zoom to rectangle",
         "square-o",
         "zoom"
        ],
        [
         "Download",
         "Download plot",
         "floppy-o",
         "save_figure"
        ]
       ]
      }
     },
     "1e4cf04fb71d4e5ebfa5d0484e1d6c0f": {
      "model_module": "jupyter-matplotlib",
      "model_module_version": "^0.10.5",
      "model_name": "ToolbarModel",
      "state": {
       "collapsed": true,
       "layout": "IPY_MODEL_056b38b6a74d4dee82291792ffca9afd",
       "orientation": "vertical",
       "toolitems": [
        [
         "Home",
         "Reset original view",
         "home",
         "home"
        ],
        [
         "Back",
         "Back to previous view",
         "arrow-left",
         "back"
        ],
        [
         "Forward",
         "Forward to next view",
         "arrow-right",
         "forward"
        ],
        [
         "Pan",
         "Pan axes with left mouse, zoom with right",
         "arrows",
         "pan"
        ],
        [
         "Zoom",
         "Zoom to rectangle",
         "square-o",
         "zoom"
        ],
        [
         "Download",
         "Download plot",
         "floppy-o",
         "save_figure"
        ]
       ]
      }
     },
     "27e6e3985f384c8fafc0c3f5d6bdd59f": {
      "model_module": "@jupyter-widgets/base",
      "model_module_version": "1.2.0",
      "model_name": "LayoutModel",
      "state": {}
     },
     "283503a17343465caf001920448da862": {
      "model_module": "@jupyter-widgets/base",
      "model_module_version": "1.2.0",
      "model_name": "LayoutModel",
      "state": {}
     },
     "285f56e2abc94df8aa0db1bbacaf0f11": {
      "model_module": "@jupyter-widgets/base",
      "model_module_version": "1.2.0",
      "model_name": "LayoutModel",
      "state": {}
     },
     "2ac744bec6214a788b664589996d082a": {
      "model_module": "@jupyter-widgets/base",
      "model_module_version": "1.2.0",
      "model_name": "LayoutModel",
      "state": {}
     },
     "2ed0f2ca8b0a4f63aa7668eac4d93077": {
      "model_module": "jupyter-matplotlib",
      "model_module_version": "^0.10.5",
      "model_name": "MPLCanvasModel",
      "state": {
       "_data_url": "data:image/png;base64,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",
       "_figure_label": "Figure 1",
       "_image_mode": "diff",
       "_size": [
        640,
        480
       ],
       "layout": "IPY_MODEL_a109742aed28424399f8b38db7b4560d",
       "toolbar": "IPY_MODEL_e96ada2c0af54e42bc71a79fd4192b08",
       "toolbar_position": "left"
      }
     },
     "30088459d0ad4d45beda9f4b97633490": {
      "model_module": "jupyter-matplotlib",
      "model_module_version": "^0.10.5",
      "model_name": "ToolbarModel",
      "state": {
       "collapsed": true,
       "layout": "IPY_MODEL_5391daf30e1e4bfbabd2221868c9d153",
       "orientation": "vertical",
       "toolitems": [
        [
         "Home",
         "Reset original view",
         "home",
         "home"
        ],
        [
         "Back",
         "Back to previous view",
         "arrow-left",
         "back"
        ],
        [
         "Forward",
         "Forward to next view",
         "arrow-right",
         "forward"
        ],
        [
         "Pan",
         "Pan axes with left mouse, zoom with right",
         "arrows",
         "pan"
        ],
        [
         "Zoom",
         "Zoom to rectangle",
         "square-o",
         "zoom"
        ],
        [
         "Download",
         "Download plot",
         "floppy-o",
         "save_figure"
        ]
       ]
      }
     },
     "38c6116517584d13833aada1419de3df": {
      "model_module": "@jupyter-widgets/base",
      "model_module_version": "1.2.0",
      "model_name": "LayoutModel",
      "state": {}
     },
     "3b96879e0a8b4a97b1ef0970cbf1f1f9": {
      "model_module": "@jupyter-widgets/base",
      "model_module_version": "1.2.0",
      "model_name": "LayoutModel",
      "state": {}
     },
     "437cf2465b264628a2e0a4c6e230bd61": {
      "model_module": "@jupyter-widgets/base",
      "model_module_version": "1.2.0",
      "model_name": "LayoutModel",
      "state": {}
     },
     "45552d03718f4fda91c2c1f290ee71c2": {
      "model_module": "jupyter-matplotlib",
      "model_module_version": "^0.10.5",
      "model_name": "ToolbarModel",
      "state": {
       "collapsed": true,
       "layout": "IPY_MODEL_94b545b35b5d4d22a08fd9ca941f39bf",
       "orientation": "vertical",
       "toolitems": [
        [
         "Home",
         "Reset original view",
         "home",
         "home"
        ],
        [
         "Back",
         "Back to previous view",
         "arrow-left",
         "back"
        ],
        [
         "Forward",
         "Forward to next view",
         "arrow-right",
         "forward"
        ],
        [
         "Pan",
         "Pan axes with left mouse, zoom with right",
         "arrows",
         "pan"
        ],
        [
         "Zoom",
         "Zoom to rectangle",
         "square-o",
         "zoom"
        ],
        [
         "Download",
         "Download plot",
         "floppy-o",
         "save_figure"
        ]
       ]
      }
     },
     "52405bd6bed0427e84a48d4872cc98c3": {
      "model_module": "jupyter-matplotlib",
      "model_module_version": "^0.10.5",
      "model_name": "ToolbarModel",
      "state": {
       "collapsed": true,
       "layout": "IPY_MODEL_a57821ed619044638eb42a5d3d1a170e",
       "orientation": "vertical",
       "toolitems": [
        [
         "Home",
         "Reset original view",
         "home",
         "home"
        ],
        [
         "Back",
         "Back to previous view",
         "arrow-left",
         "back"
        ],
        [
         "Forward",
         "Forward to next view",
         "arrow-right",
         "forward"
        ],
        [
         "Pan",
         "Pan axes with left mouse, zoom with right",
         "arrows",
         "pan"
        ],
        [
         "Zoom",
         "Zoom to rectangle",
         "square-o",
         "zoom"
        ],
        [
         "Download",
         "Download plot",
         "floppy-o",
         "save_figure"
        ]
       ]
      }
     },
     "5391daf30e1e4bfbabd2221868c9d153": {
      "model_module": "@jupyter-widgets/base",
      "model_module_version": "1.2.0",
      "model_name": "LayoutModel",
      "state": {}
     },
     "59df1bd4c1d5451291df580403f14710": {
      "model_module": "jupyter-matplotlib",
      "model_module_version": "^0.10.5",
      "model_name": "ToolbarModel",
      "state": {
       "collapsed": true,
       "layout": "IPY_MODEL_6a742efe49724276a3e0e93feec6ee5e",
       "orientation": "vertical",
       "toolitems": [
        [
         "Home",
         "Reset original view",
         "home",
         "home"
        ],
        [
         "Back",
         "Back to previous view",
         "arrow-left",
         "back"
        ],
        [
         "Forward",
         "Forward to next view",
         "arrow-right",
         "forward"
        ],
        [
         "Pan",
         "Pan axes with left mouse, zoom with right",
         "arrows",
         "pan"
        ],
        [
         "Zoom",
         "Zoom to rectangle",
         "square-o",
         "zoom"
        ],
        [
         "Download",
         "Download plot",
         "floppy-o",
         "save_figure"
        ]
       ]
      }
     },
     "6082d8ff2a214e98aaf68619f2aab663": {
      "model_module": "jupyter-matplotlib",
      "model_module_version": "^0.10.5",
      "model_name": "ToolbarModel",
      "state": {
       "collapsed": true,
       "layout": "IPY_MODEL_a9d8fcb711f34d91816259f61968d671",
       "orientation": "vertical",
       "toolitems": [
        [
         "Home",
         "Reset original view",
         "home",
         "home"
        ],
        [
         "Back",
         "Back to previous view",
         "arrow-left",
         "back"
        ],
        [
         "Forward",
         "Forward to next view",
         "arrow-right",
         "forward"
        ],
        [
         "Pan",
         "Pan axes with left mouse, zoom with right",
         "arrows",
         "pan"
        ],
        [
         "Zoom",
         "Zoom to rectangle",
         "square-o",
         "zoom"
        ],
        [
         "Download",
         "Download plot",
         "floppy-o",
         "save_figure"
        ]
       ]
      }
     },
     "64f3efc0d5fb40aa9e8b076a980bdf6c": {
      "model_module": "@jupyter-widgets/base",
      "model_module_version": "1.2.0",
      "model_name": "LayoutModel",
      "state": {}
     },
     "6a742efe49724276a3e0e93feec6ee5e": {
      "model_module": "@jupyter-widgets/base",
      "model_module_version": "1.2.0",
      "model_name": "LayoutModel",
      "state": {}
     },
     "6b653d1e5f114fa39d97b2de254696c6": {
      "model_module": "@jupyter-widgets/base",
      "model_module_version": "1.2.0",
      "model_name": "LayoutModel",
      "state": {}
     },
     "752d96b7a3cc4c29a87d1b231abe7fc6": {
      "model_module": "@jupyter-widgets/base",
      "model_module_version": "1.2.0",
      "model_name": "LayoutModel",
      "state": {}
     },
     "76c797b9751b4f0d9507a4b3bb51362f": {
      "model_module": "@jupyter-widgets/base",
      "model_module_version": "1.2.0",
      "model_name": "LayoutModel",
      "state": {}
     },
     "7ad139ad908745dd9ed96fe215645104": {
      "model_module": "@jupyter-widgets/base",
      "model_module_version": "1.2.0",
      "model_name": "LayoutModel",
      "state": {}
     },
     "7cccaad5af294a24b510a08603f77f01": {
      "model_module": "@jupyter-widgets/base",
      "model_module_version": "1.2.0",
      "model_name": "LayoutModel",
      "state": {}
     },
     "830fb4cef43e4016a3e3675e0c802e89": {
      "model_module": "jupyter-matplotlib",
      "model_module_version": "^0.10.5",
      "model_name": "ToolbarModel",
      "state": {
       "collapsed": true,
       "layout": "IPY_MODEL_64f3efc0d5fb40aa9e8b076a980bdf6c",
       "orientation": "vertical",
       "toolitems": [
        [
         "Home",
         "Reset original view",
         "home",
         "home"
        ],
        [
         "Back",
         "Back to previous view",
         "arrow-left",
         "back"
        ],
        [
         "Forward",
         "Forward to next view",
         "arrow-right",
         "forward"
        ],
        [
         "Pan",
         "Pan axes with left mouse, zoom with right",
         "arrows",
         "pan"
        ],
        [
         "Zoom",
         "Zoom to rectangle",
         "square-o",
         "zoom"
        ],
        [
         "Download",
         "Download plot",
         "floppy-o",
         "save_figure"
        ]
       ]
      }
     },
     "85eb2ad199704d1480ee72fadedf749f": {
      "model_module": "@jupyter-widgets/base",
      "model_module_version": "1.2.0",
      "model_name": "LayoutModel",
      "state": {}
     },
     "8a38a17031cc40368324b07f4dcec26c": {
      "model_module": "@jupyter-widgets/base",
      "model_module_version": "1.2.0",
      "model_name": "LayoutModel",
      "state": {}
     },
     "94b545b35b5d4d22a08fd9ca941f39bf": {
      "model_module": "@jupyter-widgets/base",
      "model_module_version": "1.2.0",
      "model_name": "LayoutModel",
      "state": {}
     },
     "a109742aed28424399f8b38db7b4560d": {
      "model_module": "@jupyter-widgets/base",
      "model_module_version": "1.2.0",
      "model_name": "LayoutModel",
      "state": {}
     },
     "a12c4ff86806478994f399b7abe63c9d": {
      "model_module": "jupyter-matplotlib",
      "model_module_version": "^0.10.5",
      "model_name": "ToolbarModel",
      "state": {
       "collapsed": true,
       "layout": "IPY_MODEL_76c797b9751b4f0d9507a4b3bb51362f",
       "orientation": "vertical",
       "toolitems": [
        [
         "Home",
         "Reset original view",
         "home",
         "home"
        ],
        [
         "Back",
         "Back to previous view",
         "arrow-left",
         "back"
        ],
        [
         "Forward",
         "Forward to next view",
         "arrow-right",
         "forward"
        ],
        [
         "Pan",
         "Pan axes with left mouse, zoom with right",
         "arrows",
         "pan"
        ],
        [
         "Zoom",
         "Zoom to rectangle",
         "square-o",
         "zoom"
        ],
        [
         "Download",
         "Download plot",
         "floppy-o",
         "save_figure"
        ]
       ]
      }
     },
     "a57821ed619044638eb42a5d3d1a170e": {
      "model_module": "@jupyter-widgets/base",
      "model_module_version": "1.2.0",
      "model_name": "LayoutModel",
      "state": {}
     },
     "a9d8fcb711f34d91816259f61968d671": {
      "model_module": "@jupyter-widgets/base",
      "model_module_version": "1.2.0",
      "model_name": "LayoutModel",
      "state": {}
     },
     "ad4aef4a840d4a598293b2346eab6c10": {
      "model_module": "@jupyter-widgets/base",
      "model_module_version": "1.2.0",
      "model_name": "LayoutModel",
      "state": {}
     },
     "bcc3143e35834282be2ab9c69c12e060": {
      "model_module": "jupyter-matplotlib",
      "model_module_version": "^0.10.5",
      "model_name": "ToolbarModel",
      "state": {
       "collapsed": true,
       "layout": "IPY_MODEL_3b96879e0a8b4a97b1ef0970cbf1f1f9",
       "orientation": "vertical",
       "toolitems": [
        [
         "Home",
         "Reset original view",
         "home",
         "home"
        ],
        [
         "Back",
         "Back to previous view",
         "arrow-left",
         "back"
        ],
        [
         "Forward",
         "Forward to next view",
         "arrow-right",
         "forward"
        ],
        [
         "Pan",
         "Pan axes with left mouse, zoom with right",
         "arrows",
         "pan"
        ],
        [
         "Zoom",
         "Zoom to rectangle",
         "square-o",
         "zoom"
        ],
        [
         "Download",
         "Download plot",
         "floppy-o",
         "save_figure"
        ]
       ]
      }
     },
     "c34fff56d55a41cea25acc794f0e1eda": {
      "model_module": "@jupyter-widgets/base",
      "model_module_version": "1.2.0",
      "model_name": "LayoutModel",
      "state": {}
     },
     "ca3dd3ca071c4e879d482aad6556bba4": {
      "model_module": "@jupyter-widgets/base",
      "model_module_version": "1.2.0",
      "model_name": "LayoutModel",
      "state": {}
     },
     "ce08153d6d964cbda3ec7fac3931248a": {
      "model_module": "@jupyter-widgets/base",
      "model_module_version": "1.2.0",
      "model_name": "LayoutModel",
      "state": {}
     },
     "d053857d3be9435fbce302126150ea54": {
      "model_module": "@jupyter-widgets/base",
      "model_module_version": "1.2.0",
      "model_name": "LayoutModel",
      "state": {}
     },
     "d2b78e87b4a24b08a49468473a6b01d0": {
      "model_module": "@jupyter-widgets/base",
      "model_module_version": "1.2.0",
      "model_name": "LayoutModel",
      "state": {}
     },
     "d9008c3a57f8462fadf71ee91044b981": {
      "model_module": "@jupyter-widgets/base",
      "model_module_version": "1.2.0",
      "model_name": "LayoutModel",
      "state": {}
     },
     "dcd6bb3b04eb4e6d97f07cdcf1d14a0a": {
      "model_module": "@jupyter-widgets/base",
      "model_module_version": "1.2.0",
      "model_name": "LayoutModel",
      "state": {}
     },
     "dd1921a20ad64f75843aa19210dd3a75": {
      "model_module": "jupyter-matplotlib",
      "model_module_version": "^0.10.5",
      "model_name": "ToolbarModel",
      "state": {
       "collapsed": true,
       "layout": "IPY_MODEL_2ac744bec6214a788b664589996d082a",
       "orientation": "vertical",
       "toolitems": [
        [
         "Home",
         "Reset original view",
         "home",
         "home"
        ],
        [
         "Back",
         "Back to previous view",
         "arrow-left",
         "back"
        ],
        [
         "Forward",
         "Forward to next view",
         "arrow-right",
         "forward"
        ],
        [
         "Pan",
         "Pan axes with left mouse, zoom with right",
         "arrows",
         "pan"
        ],
        [
         "Zoom",
         "Zoom to rectangle",
         "square-o",
         "zoom"
        ],
        [
         "Download",
         "Download plot",
         "floppy-o",
         "save_figure"
        ]
       ]
      }
     },
     "dfbcef98ce674491aad8b15a7f21906a": {
      "model_module": "jupyter-matplotlib",
      "model_module_version": "^0.10.5",
      "model_name": "ToolbarModel",
      "state": {
       "collapsed": true,
       "layout": "IPY_MODEL_285f56e2abc94df8aa0db1bbacaf0f11",
       "orientation": "vertical",
       "toolitems": [
        [
         "Home",
         "Reset original view",
         "home",
         "home"
        ],
        [
         "Back",
         "Back to previous view",
         "arrow-left",
         "back"
        ],
        [
         "Forward",
         "Forward to next view",
         "arrow-right",
         "forward"
        ],
        [
         "Pan",
         "Pan axes with left mouse, zoom with right",
         "arrows",
         "pan"
        ],
        [
         "Zoom",
         "Zoom to rectangle",
         "square-o",
         "zoom"
        ],
        [
         "Download",
         "Download plot",
         "floppy-o",
         "save_figure"
        ]
       ]
      }
     },
     "e96ada2c0af54e42bc71a79fd4192b08": {
      "model_module": "jupyter-matplotlib",
      "model_module_version": "^0.10.5",
      "model_name": "ToolbarModel",
      "state": {
       "collapsed": true,
       "layout": "IPY_MODEL_ce08153d6d964cbda3ec7fac3931248a",
       "orientation": "vertical",
       "toolitems": [
        [
         "Home",
         "Reset original view",
         "home",
         "home"
        ],
        [
         "Back",
         "Back to previous view",
         "arrow-left",
         "back"
        ],
        [
         "Forward",
         "Forward to next view",
         "arrow-right",
         "forward"
        ],
        [
         "Pan",
         "Pan axes with left mouse, zoom with right",
         "arrows",
         "pan"
        ],
        [
         "Zoom",
         "Zoom to rectangle",
         "square-o",
         "zoom"
        ],
        [
         "Download",
         "Download plot",
         "floppy-o",
         "save_figure"
        ]
       ]
      }
     }
    },
    "version_major": 2,
    "version_minor": 0
   }
  }
 },
 "nbformat": 4,
 "nbformat_minor": 2
}
